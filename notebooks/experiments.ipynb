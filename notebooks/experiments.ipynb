{
 "cells": [
  {
   "cell_type": "code",
   "execution_count": 2,
   "id": "ac2dadd3",
   "metadata": {},
   "outputs": [],
   "source": [
    "from langchain_groq import ChatGroq\n",
    "from dotenv import load_dotenv\n",
    "load_dotenv()\n",
    "llm = ChatGroq(model=\"meta-llama/llama-4-scout-17b-16e-instruct\")"
   ]
  },
  {
   "cell_type": "code",
   "execution_count": 3,
   "id": "7a6db423",
   "metadata": {},
   "outputs": [
    {
     "data": {
      "text/plain": [
       "AIMessage(content='Hi! How are you today? Is there something I can help you with or would you like to chat?', additional_kwargs={}, response_metadata={'token_usage': {'completion_tokens': 23, 'prompt_tokens': 11, 'total_tokens': 34, 'completion_time': 0.052032506, 'prompt_time': 0.000230736, 'queue_time': 0.055584394, 'total_time': 0.052263242}, 'model_name': 'meta-llama/llama-4-scout-17b-16e-instruct', 'system_fingerprint': 'fp_37da608fc1', 'service_tier': 'on_demand', 'finish_reason': 'stop', 'logprobs': None}, id='run--a7dad12f-e5ea-4463-8a63-eb24948e72f8-0', usage_metadata={'input_tokens': 11, 'output_tokens': 23, 'total_tokens': 34})"
      ]
     },
     "execution_count": 3,
     "metadata": {},
     "output_type": "execute_result"
    }
   ],
   "source": [
    "llm.invoke(\"hi\")"
   ]
  },
  {
   "cell_type": "code",
   "execution_count": null,
   "id": "c40d2cf1",
   "metadata": {},
   "outputs": [],
   "source": [
    "from langchain_core.tools import StructuredTool\n",
    "from pydantic import BaseModel\n",
    "\n",
    "class weather_input(BaseModel):\n",
    "    city: str\n",
    "\n",
    "def get_weather(location: str) -> str:\n",
    "    \"\"\"Get the weather for a given location.\"\"\"\n",
    "    return f\"The weather in {location} is sunny.\"\n",
    "\n",
    "weather_tool = StructuredTool.from_function(\n",
    "    func=get_weather,\n",
    "    name=\"get_weather\",\n",
    "    description=\"Get the weather for a given location.\",\n",
    "    args_schema=weather_input\n",
    ")"
   ]
  },
  {
   "cell_type": "code",
   "execution_count": null,
   "id": "465c391d",
   "metadata": {},
   "outputs": [
    {
     "name": "stdout",
     "output_type": "stream",
     "text": [
      "{'cod': '200', 'message': 0, 'cnt': 10, 'list': [{'dt': 1760810400, 'main': {'temp': 25.78, 'feels_like': 25.85, 'temp_min': 25.78, 'temp_max': 26, 'pressure': 1010, 'sea_level': 1010, 'grnd_level': 938, 'humidity': 55, 'temp_kf': -0.22}, 'weather': [{'id': 803, 'main': 'Clouds', 'description': 'broken clouds', 'icon': '04n'}], 'clouds': {'all': 52}, 'wind': {'speed': 0.67, 'deg': 148, 'gust': 0.56}, 'visibility': 10000, 'pop': 0, 'sys': {'pod': 'n'}, 'dt_txt': '2025-10-18 18:00:00'}, {'dt': 1760821200, 'main': {'temp': 25.63, 'feels_like': 25.71, 'temp_min': 25.34, 'temp_max': 25.63, 'pressure': 1009, 'sea_level': 1009, 'grnd_level': 936, 'humidity': 56, 'temp_kf': 0.29}, 'weather': [{'id': 803, 'main': 'Clouds', 'description': 'broken clouds', 'icon': '04n'}], 'clouds': {'all': 68}, 'wind': {'speed': 1.79, 'deg': 90, 'gust': 2.36}, 'visibility': 10000, 'pop': 0, 'sys': {'pod': 'n'}, 'dt_txt': '2025-10-18 21:00:00'}, {'dt': 1760832000, 'main': {'temp': 23.99, 'feels_like': 24.14, 'temp_min': 23.1, 'temp_max': 23.99, 'pressure': 1009, 'sea_level': 1009, 'grnd_level': 937, 'humidity': 65, 'temp_kf': 0.89}, 'weather': [{'id': 803, 'main': 'Clouds', 'description': 'broken clouds', 'icon': '04n'}], 'clouds': {'all': 68}, 'wind': {'speed': 2.3, 'deg': 116, 'gust': 2.8}, 'visibility': 10000, 'pop': 0, 'sys': {'pod': 'n'}, 'dt_txt': '2025-10-19 00:00:00'}, {'dt': 1760842800, 'main': {'temp': 25.28, 'feels_like': 25.59, 'temp_min': 25.28, 'temp_max': 25.28, 'pressure': 1012, 'sea_level': 1012, 'grnd_level': 939, 'humidity': 66, 'temp_kf': 0}, 'weather': [{'id': 800, 'main': 'Clear', 'description': 'clear sky', 'icon': '01d'}], 'clouds': {'all': 2}, 'wind': {'speed': 3.41, 'deg': 109, 'gust': 6.21}, 'visibility': 10000, 'pop': 0, 'sys': {'pod': 'd'}, 'dt_txt': '2025-10-19 03:00:00'}, {'dt': 1760853600, 'main': {'temp': 29.23, 'feels_like': 29.96, 'temp_min': 29.23, 'temp_max': 29.23, 'pressure': 1010, 'sea_level': 1010, 'grnd_level': 938, 'humidity': 50, 'temp_kf': 0}, 'weather': [{'id': 800, 'main': 'Clear', 'description': 'clear sky', 'icon': '01d'}], 'clouds': {'all': 2}, 'wind': {'speed': 5.44, 'deg': 103, 'gust': 6.59}, 'visibility': 10000, 'pop': 0, 'sys': {'pod': 'd'}, 'dt_txt': '2025-10-19 06:00:00'}, {'dt': 1760864400, 'main': {'temp': 31.41, 'feels_like': 31.46, 'temp_min': 31.41, 'temp_max': 31.41, 'pressure': 1007, 'sea_level': 1007, 'grnd_level': 935, 'humidity': 40, 'temp_kf': 0}, 'weather': [{'id': 801, 'main': 'Clouds', 'description': 'few clouds', 'icon': '02d'}], 'clouds': {'all': 15}, 'wind': {'speed': 3.35, 'deg': 95, 'gust': 3.85}, 'visibility': 10000, 'pop': 0, 'sys': {'pod': 'd'}, 'dt_txt': '2025-10-19 09:00:00'}, {'dt': 1760875200, 'main': {'temp': 30.04, 'feels_like': 30.65, 'temp_min': 30.04, 'temp_max': 30.04, 'pressure': 1007, 'sea_level': 1007, 'grnd_level': 935, 'humidity': 47, 'temp_kf': 0}, 'weather': [{'id': 802, 'main': 'Clouds', 'description': 'scattered clouds', 'icon': '03d'}], 'clouds': {'all': 43}, 'wind': {'speed': 1.79, 'deg': 78, 'gust': 2.32}, 'visibility': 10000, 'pop': 0, 'sys': {'pod': 'd'}, 'dt_txt': '2025-10-19 12:00:00'}, {'dt': 1760886000, 'main': {'temp': 27.56, 'feels_like': 27.9, 'temp_min': 27.56, 'temp_max': 27.56, 'pressure': 1009, 'sea_level': 1009, 'grnd_level': 937, 'humidity': 49, 'temp_kf': 0}, 'weather': [{'id': 804, 'main': 'Clouds', 'description': 'overcast clouds', 'icon': '04n'}], 'clouds': {'all': 92}, 'wind': {'speed': 1.39, 'deg': 92, 'gust': 4.4}, 'visibility': 10000, 'pop': 0, 'sys': {'pod': 'n'}, 'dt_txt': '2025-10-19 15:00:00'}, {'dt': 1760896800, 'main': {'temp': 26.54, 'feels_like': 26.54, 'temp_min': 26.54, 'temp_max': 26.54, 'pressure': 1010, 'sea_level': 1010, 'grnd_level': 937, 'humidity': 53, 'temp_kf': 0}, 'weather': [{'id': 804, 'main': 'Clouds', 'description': 'overcast clouds', 'icon': '04n'}], 'clouds': {'all': 95}, 'wind': {'speed': 1.89, 'deg': 107, 'gust': 3.32}, 'visibility': 10000, 'pop': 0, 'sys': {'pod': 'n'}, 'dt_txt': '2025-10-19 18:00:00'}, {'dt': 1760907600, 'main': {'temp': 25.19, 'feels_like': 25.31, 'temp_min': 25.19, 'temp_max': 25.19, 'pressure': 1008, 'sea_level': 1008, 'grnd_level': 936, 'humidity': 59, 'temp_kf': 0}, 'weather': [{'id': 804, 'main': 'Clouds', 'description': 'overcast clouds', 'icon': '04n'}], 'clouds': {'all': 100}, 'wind': {'speed': 2.4, 'deg': 104, 'gust': 3.77}, 'visibility': 10000, 'pop': 0, 'sys': {'pod': 'n'}, 'dt_txt': '2025-10-19 21:00:00'}], 'city': {'id': 1259229, 'name': 'Pune', 'coord': {'lat': 18.5196, 'lon': 73.8553}, 'country': 'IN', 'population': 9999, 'timezone': 19800, 'sunrise': 1760749142, 'sunset': 1760791209}}\n"
     ]
    }
   ],
   "source": [
    "import requests\n",
    "\n",
    "\n",
    "url = f\"http://api.openweathermap.org/data/2.5/forecast\"\n",
    "params = {\n",
    "    \"q\": \"Pune\",\n",
    "    \"appid\": \"apikey\",\n",
    "    \"cnt\": 10,\n",
    "    \"units\": \"metric\"\n",
    "}\n",
    "response = requests.get(url, params=params)\n",
    "print(response.json())"
   ]
  },
  {
   "cell_type": "code",
   "execution_count": 2,
   "id": "1217aeee",
   "metadata": {},
   "outputs": [
    {
     "data": {
      "text/plain": [
       "'2025-10-18 23:30:00'"
      ]
     },
     "execution_count": 2,
     "metadata": {},
     "output_type": "execute_result"
    }
   ],
   "source": [
    "from datetime import datetime\n",
    "datetime.fromtimestamp(1760810400).strftime('%Y-%m-%d %H:%M:%S')"
   ]
  }
 ],
 "metadata": {
  "kernelspec": {
   "display_name": "venv",
   "language": "python",
   "name": "python3"
  },
  "language_info": {
   "codemirror_mode": {
    "name": "ipython",
    "version": 3
   },
   "file_extension": ".py",
   "mimetype": "text/x-python",
   "name": "python",
   "nbconvert_exporter": "python",
   "pygments_lexer": "ipython3",
   "version": "3.12.8"
  }
 },
 "nbformat": 4,
 "nbformat_minor": 5
}
